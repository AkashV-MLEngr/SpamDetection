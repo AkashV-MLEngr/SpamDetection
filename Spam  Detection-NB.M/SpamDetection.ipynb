{
 "cells": [
  {
   "cell_type": "code",
   "execution_count": 2,
   "metadata": {},
   "outputs": [],
   "source": [
    "# import modules\n",
    "\n",
    "# load the data\n",
    "import pandas as pd\n",
    "\n",
    "# spliting the data into training and testing\n",
    "from sklearn.model_selection import train_test_split\n",
    "from sklearn.feature_extraction.text import CountVectorizer\n",
    "\n",
    "# build the naive bayes multinomial model\n",
    "from sklearn.naive_bayes import MultinomialNB\n",
    "\n",
    "# to see the accuracy\n",
    "from sklearn.metrics import accuracy_score, classification_report "
   ]
  },
  {
   "cell_type": "code",
   "execution_count": 3,
   "metadata": {},
   "outputs": [],
   "source": [
    "# import the dataset\n",
    "data = pd.read_table('SMSSpamCollection', sep='\\t', names=['label', 'message'])"
   ]
  },
  {
   "cell_type": "code",
   "execution_count": 4,
   "metadata": {},
   "outputs": [],
   "source": [
    "data['label'] = data.label.map({'ham': 0, 'spam': 1})"
   ]
  },
  {
   "cell_type": "code",
   "execution_count": 5,
   "metadata": {},
   "outputs": [
    {
     "name": "stdout",
     "output_type": "stream",
     "text": [
      "totel number of data in the set: (5572, 2)\n",
      "totel number of data in the training: (4179,)\n",
      "totel number of data in the testing: (1393,)\n"
     ]
    }
   ],
   "source": [
    "# split the data into traing & testing\n",
    "X_train, X_test, Y_train, Y_test = train_test_split(data['message'], data['label'])\n",
    "print('totel number of data in the set: {}'.format(data.shape))\n",
    "print('totel number of data in the training: {}'.format(X_train.shape))\n",
    "print('totel number of data in the testing: {}'.format(X_test.shape))"
   ]
  },
  {
   "cell_type": "code",
   "execution_count": 6,
   "metadata": {},
   "outputs": [],
   "source": [
    "count_vector = CountVectorizer()\n",
    "training_data = count_vector.fit_transform(X_train)\n",
    "testing_data = count_vector.transform(X_test)"
   ]
  },
  {
   "cell_type": "code",
   "execution_count": 7,
   "metadata": {},
   "outputs": [],
   "source": [
    "# build the NB multinomial model\n",
    "NB_M = MultinomialNB()\n",
    "model = NB_M.fit(training_data, Y_train)\n",
    "Prediction = model.predict(testing_data)"
   ]
  },
  {
   "cell_type": "code",
   "execution_count": 8,
   "metadata": {},
   "outputs": [
    {
     "name": "stdout",
     "output_type": "stream",
     "text": [
      "Accuracy score:  0.9770279971284996\n",
      "Classification report:                precision    recall  f1-score   support\n",
      "\n",
      "           0       0.98      0.99      0.99      1202\n",
      "           1       0.95      0.88      0.91       191\n",
      "\n",
      "    accuracy                           0.98      1393\n",
      "   macro avg       0.97      0.94      0.95      1393\n",
      "weighted avg       0.98      0.98      0.98      1393\n",
      "\n"
     ]
    }
   ],
   "source": [
    "# predict the score & report\n",
    "Accuracy = accuracy_score(Y_test, Prediction)\n",
    "Report = classification_report(Y_test, Prediction)\n",
    "print('Accuracy score: ', Accuracy)\n",
    "print('Classification report: ', Report)"
   ]
  }
 ],
 "metadata": {
  "kernelspec": {
   "display_name": "Python 3 (ipykernel)",
   "language": "python",
   "name": "python3"
  },
  "language_info": {
   "codemirror_mode": {
    "name": "ipython",
    "version": 3
   },
   "file_extension": ".py",
   "mimetype": "text/x-python",
   "name": "python",
   "nbconvert_exporter": "python",
   "pygments_lexer": "ipython3",
   "version": "3.11.0"
  }
 },
 "nbformat": 4,
 "nbformat_minor": 2
}
